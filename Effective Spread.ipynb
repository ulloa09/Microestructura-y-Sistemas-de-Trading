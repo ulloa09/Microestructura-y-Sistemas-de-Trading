{
 "cells": [
  {
   "metadata": {
    "collapsed": true,
    "ExecuteTime": {
     "end_time": "2025-08-28T20:59:05.007346Z",
     "start_time": "2025-08-28T20:59:05.005746Z"
    }
   },
   "cell_type": "markdown",
   "source": [
    "# Effective Spread\n",
    "\n",
    "### Mauricio Martínez Ulloa"
   ],
   "id": "f8b6d58f80e0c478"
  },
  {
   "metadata": {},
   "cell_type": "markdown",
   "source": "Using Roll's model for effective spreads, do the following using the `aapl_5m_train.csv` dataset:",
   "id": "fd85fa07595f77d0"
  },
  {
   "metadata": {
    "ExecuteTime": {
     "end_time": "2025-08-28T23:36:32.522218Z",
     "start_time": "2025-08-28T23:36:32.517615Z"
    }
   },
   "cell_type": "code",
   "source": [
    "import pandas as pd\n",
    "import numpy as np\n",
    "import matplotlib.pyplot as plt\n",
    "from pygments.lexers.ruby import FancyLexer"
   ],
   "id": "500a8005aac08dd9",
   "outputs": [],
   "execution_count": 18
  },
  {
   "metadata": {},
   "cell_type": "markdown",
   "source": "Determine the effective spread using the block method `cov([dt1, dt2, dt3], [dt4, dt5, dt6])`m",
   "id": "63990a78eb0cb3f7"
  },
  {
   "metadata": {
    "ExecuteTime": {
     "end_time": "2025-08-28T23:36:32.552920Z",
     "start_time": "2025-08-28T23:36:32.526905Z"
    }
   },
   "cell_type": "code",
   "source": [
    "df = pd.read_csv('data/aapl_5m_train.csv')\n",
    "df = df[['Open', 'High', 'Low', 'Close']]\n",
    "df.dropna(inplace=True)"
   ],
   "id": "b87284050d5403f",
   "outputs": [],
   "execution_count": 19
  },
  {
   "metadata": {
    "ExecuteTime": {
     "end_time": "2025-08-28T23:36:32.560606Z",
     "start_time": "2025-08-28T23:36:32.556647Z"
    }
   },
   "cell_type": "code",
   "source": [
    "'Columna Rt_1,2,3,4... sería igual a Dt_1,2,3,4...'\n",
    "df['rt'] = df.Close.pct_change()\n",
    "df.dropna(inplace=True)"
   ],
   "id": "acd55cfd3ef6e82f",
   "outputs": [],
   "execution_count": 20
  },
  {
   "metadata": {
    "ExecuteTime": {
     "end_time": "2025-08-28T23:36:32.564863Z",
     "start_time": "2025-08-28T23:36:32.562962Z"
    }
   },
   "cell_type": "code",
   "source": [
    "def block_method(df):\n",
    "\n",
    "    rt = df['rt']\n",
    "\n",
    "    block1 = []\n",
    "    block2 = []\n",
    "    cov_bloques = []\n",
    "    spreads = []\n",
    "    bloque = 3\n",
    "\n",
    "    for i in range(0, len(rt) - 2*bloque, bloque):\n",
    "        block1 = rt[i:i + bloque]\n",
    "        block2 = rt[i + bloque: i + 2*bloque]\n",
    "\n",
    "        cov_bloque = np.cov(block1, block2)[0,1]\n",
    "        cov_bloques.append(cov_bloque)\n",
    "\n",
    "        if cov_bloque < 0:\n",
    "            spread = 2 * np.sqrt(-cov_bloque)\n",
    "        else:\n",
    "            spread = np.nan\n",
    "        spreads.append(spread)\n",
    "\n",
    "    return spreads\n"
   ],
   "id": "968bcedf36c8aafe",
   "outputs": [],
   "execution_count": 21
  },
  {
   "metadata": {
    "ExecuteTime": {
     "end_time": "2025-08-28T23:36:32.995723Z",
     "start_time": "2025-08-28T23:36:32.567738Z"
    }
   },
   "cell_type": "code",
   "source": [
    "spreads_block = block_method(df)\n",
    "spreads_block_df = pd.DataFrame()\n",
    "spreads_block_df['spreads'] = spreads_block\n",
    "spreads_block_df.hist()"
   ],
   "id": "86a6995794daaae5",
   "outputs": [
    {
     "data": {
      "text/plain": [
       "array([[<Axes: title={'center': 'spreads'}>]], dtype=object)"
      ]
     },
     "execution_count": 22,
     "metadata": {},
     "output_type": "execute_result"
    },
    {
     "data": {
      "text/plain": [
       "<Figure size 640x480 with 1 Axes>"
      ],
      "image/png": "[encoded data removed]"
     },
     "metadata": {},
     "output_type": "display_data"
    }
   ],
   "execution_count": 22
  },
  {
   "metadata": {
    "ExecuteTime": {
     "end_time": "2025-08-28T23:36:33.281540Z",
     "start_time": "2025-08-28T23:36:33.279658Z"
    }
   },
   "cell_type": "code",
   "source": "mean_block_spread = spreads_block_df.spreads.mean()",
   "id": "57c08d47c27b9917",
   "outputs": [],
   "execution_count": 23
  },
  {
   "metadata": {
    "ExecuteTime": {
     "end_time": "2025-08-28T21:00:24.544990Z",
     "start_time": "2025-08-28T21:00:24.540876Z"
    }
   },
   "cell_type": "markdown",
   "source": "- Determine the effective spread using the serial covariance `cov([dt1, dt2, dt3], [dt2, dt3, dt4])`",
   "id": "cfd01e86911dac9d"
  },
  {
   "metadata": {
    "ExecuteTime": {
     "end_time": "2025-08-28T23:36:33.286614Z",
     "start_time": "2025-08-28T23:36:33.284469Z"
    }
   },
   "cell_type": "code",
   "source": [
    "def serial_method(df):\n",
    "\n",
    "    rt = df['rt']\n",
    "    bloque = 3\n",
    "    spreads = [np.nan] * (2 * bloque)\n",
    "    covs = []\n",
    "\n",
    "\n",
    "    for i in range(1, len(rt)):\n",
    "        x = rt[i-1 : i+2]\n",
    "        y = rt[i : i+3]\n",
    "\n",
    "        if len(x) == len(y) and len(x) > 1:\n",
    "            cov_serial = np.cov(x,y)[0,1]\n",
    "            covs.append(cov_serial)\n",
    "\n",
    "            if cov_serial < 0:\n",
    "                spread = 2 * np.sqrt(-cov_serial)\n",
    "            else:\n",
    "                spread = np.nan\n",
    "            spreads.append(spread)\n",
    "\n",
    "    return spreads\n"
   ],
   "id": "ae8094cd5c4cfbd8",
   "outputs": [],
   "execution_count": 24
  },
  {
   "metadata": {
    "ExecuteTime": {
     "end_time": "2025-08-28T23:36:34.464393Z",
     "start_time": "2025-08-28T23:36:33.291656Z"
    }
   },
   "cell_type": "code",
   "source": [
    "spreads_serial = serial_method(df)\n",
    "spreads_serial_df = pd.DataFrame()\n",
    "spreads_serial_df['spreads'] = spreads_serial\n",
    "spreads_serial_df.hist()"
   ],
   "id": "5c064494867383b4",
   "outputs": [
    {
     "data": {
      "text/plain": [
       "array([[<Axes: title={'center': 'spreads'}>]], dtype=object)"
      ]
     },
     "execution_count": 25,
     "metadata": {},
     "output_type": "execute_result"
    },
    {
     "data": {
      "text/plain": [
       "<Figure size 640x480 with 1 Axes>"
      ],
      "image/png": "[encoded data removed]"
     },
     "metadata": {},
     "output_type": "display_data"
    }
   ],
   "execution_count": 25
  },
  {
   "metadata": {
    "ExecuteTime": {
     "end_time": "2025-08-28T23:36:34.490669Z",
     "start_time": "2025-08-28T23:36:34.488856Z"
    }
   },
   "cell_type": "code",
   "source": "mean_spread_serial = spreads_serial_df['spreads'].mean()",
   "id": "8fd434c60dce659",
   "outputs": [],
   "execution_count": 26
  },
  {
   "metadata": {},
   "cell_type": "markdown",
   "source": "b- Infer the last operation type",
   "id": "7068b997efecdab2"
  },
  {
   "metadata": {
    "ExecuteTime": {
     "end_time": "2025-08-28T23:36:34.494359Z",
     "start_time": "2025-08-28T23:36:34.492836Z"
    }
   },
   "cell_type": "code",
   "source": [
    "def bid_o_ask(df):\n",
    "\n",
    "    rt = df['rt'].values\n",
    "\n",
    "    BoA = []\n",
    "\n",
    "    for i in range(1, len(rt)):\n",
    "        if rt[i] > 0:\n",
    "            BoA.append(\"Ask\")\n",
    "        else:\n",
    "            BoA.append(\"Bid\")\n",
    "    return BoA"
   ],
   "id": "1f13ab388d72a8c0",
   "outputs": [],
   "execution_count": 27
  },
  {
   "metadata": {
    "ExecuteTime": {
     "end_time": "2025-08-28T23:36:34.500236Z",
     "start_time": "2025-08-28T23:36:34.498336Z"
    }
   },
   "cell_type": "code",
   "source": "len(spreads_block)",
   "id": "1bbd14999c6f1abd",
   "outputs": [
    {
     "data": {
      "text/plain": [
       "13190"
      ]
     },
     "execution_count": 28,
     "metadata": {},
     "output_type": "execute_result"
    }
   ],
   "execution_count": 28
  },
  {
   "metadata": {
    "ExecuteTime": {
     "end_time": "2025-08-28T23:36:37.279446Z",
     "start_time": "2025-08-28T23:36:37.269016Z"
    }
   },
   "cell_type": "code",
   "source": [
    "df['Type'] = [\"NaN\"] + bid_o_ask(df)\n",
    "df['Spread_Serial'] = spreads_serial[:39574]\n"
   ],
   "id": "c7faee27156dc783",
   "outputs": [],
   "execution_count": 29
  },
  {
   "metadata": {},
   "cell_type": "markdown",
   "source": "s*- Calculate the Bid & Ask price using a window size of [5, 10, 20, 50, 100]",
   "id": "105de0b9f3e0dcfc"
  },
  {
   "metadata": {
    "ExecuteTime": {
     "end_time": "2025-08-28T23:36:37.312862Z",
     "start_time": "2025-08-28T23:36:37.310203Z"
    }
   },
   "cell_type": "code",
   "source": [
    "def effective_spread_bid_ask(df, window_size=3, window_step=3):\n",
    "\n",
    "    # Price Delta\n",
    "    df = df.copy()\n",
    "    df['Price Delta'] = df['Close'].diff()\n",
    "\n",
    "    # Tipo de operación\n",
    "    op_type = []\n",
    "    for i in range(len(df)-1):\n",
    "        delta_i = df.iloc[i+1][\"Price Delta\"]\n",
    "        if delta_i > 0:\n",
    "            op_type_i = \"Ask\"\n",
    "        elif delta_i == 0:\n",
    "            op_type_i = \"None\"\n",
    "        else:\n",
    "            op_type_i = \"Bid\"\n",
    "        op_type.append(op_type_i)\n",
    "    op_type.append(\"NaN\")  # último elemento\n",
    "    df[\"Last Operation\"] = op_type\n",
    "\n",
    "    # Calcular spread\n",
    "    spread = []\n",
    "    for i in range(len(df) - window_step - window_size):\n",
    "        block1 = df.iloc[i:i+window_size][\"Price Delta\"]\n",
    "        block2 = df.iloc[i+window_step:i+window_step+window_size][\"Price Delta\"]\n",
    "        block_covariance = np.cov(block1, block2)[0,1]\n",
    "        spread_i = 2 * np.sqrt(abs(block_covariance)) if block_covariance < 0 else 0\n",
    "        spread.append(spread_i)\n",
    "\n",
    "    # Rellenar con NaN para dimensiones\n",
    "    filler_length = len(df) - len(spread)\n",
    "    spread += [np.nan] * filler_length\n",
    "    df[\"Quote\"] = spread\n",
    "\n",
    "    # Calcular Bid y Ask\n",
    "    bid_list = []\n",
    "    ask_list = []\n",
    "    for i in range(len(df)):\n",
    "        if np.isnan(df.iloc[i][\"Quote\"]):\n",
    "            bid_list.append(np.nan)\n",
    "            ask_list.append(np.nan)\n",
    "        else:\n",
    "            bid_list.append(df.iloc[i][\"Close\"] - df.iloc[i][\"Quote\"]/2)\n",
    "            ask_list.append(df.iloc[i][\"Close\"] + df.iloc[i][\"Quote\"]/2)\n",
    "\n",
    "    df[\"Bid\"] = bid_list\n",
    "    df[\"Ask\"] = ask_list\n",
    "\n",
    "    # Promedio del spread\n",
    "    spread_prom = np.nanmean(spread)\n",
    "\n",
    "    return spread_prom, df"
   ],
   "id": "c571ef9afbb91bec",
   "outputs": [],
   "execution_count": 30
  },
  {
   "metadata": {
    "ExecuteTime": {
     "end_time": "2025-08-28T23:36:57.592209Z",
     "start_time": "2025-08-28T23:36:53.725232Z"
    }
   },
   "cell_type": "code",
   "source": [
    "spread_prom, df = effective_spread_bid_ask(df, window_size=3, window_step=3)\n",
    "df.head()"
   ],
   "id": "9d5adf9fde21de7c",
   "outputs": [
    {
     "data": {
      "text/plain": [
       "     Open        High         Low       Close        rt Type  Spread_Serial  \\\n",
       "1  132.75  132.750000  131.809997  131.889999 -0.006927  NaN            NaN   \n",
       "2  131.50  132.339996  131.500000  132.059997  0.001289  Ask            NaN   \n",
       "3  132.00  132.250000  131.899993  132.250000  0.001439  Ask            NaN   \n",
       "4  132.00  132.018096  131.520004  131.589996 -0.004991  Bid            NaN   \n",
       "5  132.00  132.089996  131.300003  131.448898 -0.001072  Bid            NaN   \n",
       "\n",
       "   Price Delta Last Operation     Quote         Bid         Ask  \n",
       "1          NaN            Ask  0.000000  131.889999  131.889999  \n",
       "2     0.169998            Ask  0.000000  132.059997  132.059997  \n",
       "3     0.190003            Bid  0.284793  132.107604  132.392396  \n",
       "4    -0.660004            Bid  0.000000  131.589996  131.589996  \n",
       "5    -0.141098            Bid  0.374782  131.261507  131.636289  "
      ],
      "text/html": [
       "<div>\n",
       "<style scoped>\n",
       "    .dataframe tbody tr th:only-of-type {\n",
       "        vertical-align: middle;\n",
       "    }\n",
       "\n",
       "    .dataframe tbody tr th {\n",
       "        vertical-align: top;\n",
       "    }\n",
       "\n",
       "    .dataframe thead th {\n",
       "        text-align: right;\n",
       "    }\n",
       "</style>\n",
       "<table border=\"1\" class=\"dataframe\">\n",
       "  <thead>\n",
       "    <tr style=\"text-align: right;\">\n",
       "      <th></th>\n",
       "      <th>Open</th>\n",
       "      <th>High</th>\n",
       "      <th>Low</th>\n",
       "      <th>Close</th>\n",
       "      <th>rt</th>\n",
       "      <th>Type</th>\n",
       "      <th>Spread_Serial</th>\n",
       "      <th>Price Delta</th>\n",
       "      <th>Last Operation</th>\n",
       "      <th>Quote</th>\n",
       "      <th>Bid</th>\n",
       "      <th>Ask</th>\n",
       "    </tr>\n",
       "  </thead>\n",
       "  <tbody>\n",
       "    <tr>\n",
       "      <th>1</th>\n",
       "      <td>132.75</td>\n",
       "      <td>132.750000</td>\n",
       "      <td>131.809997</td>\n",
       "      <td>131.889999</td>\n",
       "      <td>-0.006927</td>\n",
       "      <td>NaN</td>\n",
       "      <td>NaN</td>\n",
       "      <td>NaN</td>\n",
       "      <td>Ask</td>\n",
       "      <td>0.000000</td>\n",
       "      <td>131.889999</td>\n",
       "      <td>131.889999</td>\n",
       "    </tr>\n",
       "    <tr>\n",
       "      <th>2</th>\n",
       "      <td>131.50</td>\n",
       "      <td>132.339996</td>\n",
       "      <td>131.500000</td>\n",
       "      <td>132.059997</td>\n",
       "      <td>0.001289</td>\n",
       "      <td>Ask</td>\n",
       "      <td>NaN</td>\n",
       "      <td>0.169998</td>\n",
       "      <td>Ask</td>\n",
       "      <td>0.000000</td>\n",
       "      <td>132.059997</td>\n",
       "      <td>132.059997</td>\n",
       "    </tr>\n",
       "    <tr>\n",
       "      <th>3</th>\n",
       "      <td>132.00</td>\n",
       "      <td>132.250000</td>\n",
       "      <td>131.899993</td>\n",
       "      <td>132.250000</td>\n",
       "      <td>0.001439</td>\n",
       "      <td>Ask</td>\n",
       "      <td>NaN</td>\n",
       "      <td>0.190003</td>\n",
       "      <td>Bid</td>\n",
       "      <td>0.284793</td>\n",
       "      <td>132.107604</td>\n",
       "      <td>132.392396</td>\n",
       "    </tr>\n",
       "    <tr>\n",
       "      <th>4</th>\n",
       "      <td>132.00</td>\n",
       "      <td>132.018096</td>\n",
       "      <td>131.520004</td>\n",
       "      <td>131.589996</td>\n",
       "      <td>-0.004991</td>\n",
       "      <td>Bid</td>\n",
       "      <td>NaN</td>\n",
       "      <td>-0.660004</td>\n",
       "      <td>Bid</td>\n",
       "      <td>0.000000</td>\n",
       "      <td>131.589996</td>\n",
       "      <td>131.589996</td>\n",
       "    </tr>\n",
       "    <tr>\n",
       "      <th>5</th>\n",
       "      <td>132.00</td>\n",
       "      <td>132.089996</td>\n",
       "      <td>131.300003</td>\n",
       "      <td>131.448898</td>\n",
       "      <td>-0.001072</td>\n",
       "      <td>Bid</td>\n",
       "      <td>NaN</td>\n",
       "      <td>-0.141098</td>\n",
       "      <td>Bid</td>\n",
       "      <td>0.374782</td>\n",
       "      <td>131.261507</td>\n",
       "      <td>131.636289</td>\n",
       "    </tr>\n",
       "  </tbody>\n",
       "</table>\n",
       "</div>"
      ]
     },
     "execution_count": 31,
     "metadata": {},
     "output_type": "execute_result"
    }
   ],
   "execution_count": 31
  },
  {
   "metadata": {},
   "cell_type": "markdown",
   "source": "- Find the average spread of AAPL and analyze the spreads of all methods to find which one fits best for this time series",
   "id": "8af14e17a868772b"
  },
  {
   "metadata": {
    "ExecuteTime": {
     "end_time": "2025-08-28T23:41:13.845833Z",
     "start_time": "2025-08-28T23:41:13.839256Z"
    }
   },
   "cell_type": "code",
   "source": [
    "mean_block = np.nanmean(spreads_block)\n",
    "mean_serial = np.nanmean(spreads_serial)\n",
    "mean_bidask = np.nanmean(df['Quote'])\n",
    "\n",
    "print('SPREADS:','\\n','Mean de block:',mean_block,'\\n','Mean de serial:',mean_serial,'\\n','Mean de Bid/Ask:',mean_bidask)"
   ],
   "id": "e58fd0f3ef8e5e6c",
   "outputs": [
    {
     "name": "stdout",
     "output_type": "stream",
     "text": [
      "SPREADS: \n",
      " Mean de block: 0.0020130570215468493 \n",
      " Mean de serial: 0.0021633866464770717 \n",
      " Mean de Bid/Ask: 0.1499073290431435\n"
     ]
    }
   ],
   "execution_count": 37
  },
  {
   "metadata": {},
   "cell_type": "markdown",
   "source": "- Upload a jupyter notebook with the results",
   "id": "d40f3e3a71981ddf"
  }
 ],
 "metadata": {
  "kernelspec": {
   "display_name": "Python 3",
   "language": "python",
   "name": "python3"
  },
  "language_info": {
   "codemirror_mode": {
    "name": "ipython",
    "version": 2
   },
   "file_extension": ".py",
   "mimetype": "text/x-python",
   "name": "python",
   "nbconvert_exporter": "python",
   "pygments_lexer": "ipython2",
   "version": "2.7.6"
  }
 },
 "nbformat": 4,
 "nbformat_minor": 5
}
